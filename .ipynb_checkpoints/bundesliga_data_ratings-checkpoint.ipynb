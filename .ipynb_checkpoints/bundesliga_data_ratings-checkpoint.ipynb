{
 "cells": [
  {
   "cell_type": "code",
   "execution_count": 1,
   "metadata": {},
   "outputs": [],
   "source": [
    "import pandas as pd\n",
    "import numpy as np\n",
    "import matplotlib.pyplot as plt\n",
    "%matplotlib inline"
   ]
  },
  {
   "cell_type": "code",
   "execution_count": 30,
   "metadata": {},
   "outputs": [],
   "source": [
    "# source https://www.kaggle.com/thefc17/bundesliga-results-19932018/version/1\n",
    "bl = pd.read_csv('Bundesliga_Results.csv', parse_dates=['Date'])"
   ]
  },
  {
   "cell_type": "markdown",
   "metadata": {},
   "source": [
    "This dataset contains results from every Bundesliga match from 1993-1994 to 2017-2018. It also includes half time results, but only from 1995-96 to 2017-18. Columns include Division (denoted as D1), HomeTeam, AwayTeam, FTHG (final time home goals), FTAG (final time away goals), FTR (full time result), HTHG (half time home goals), HTAG (half time away goals), HTR (half time result), and season.\n",
    "\n",
    "Data compiled into one file from this site: http://www.football-data.co.uk/germanym.php"
   ]
  },
  {
   "cell_type": "code",
   "execution_count": 45,
   "metadata": {},
   "outputs": [
    {
     "name": "stdout",
     "output_type": "stream",
     "text": [
      "Dataset contains 7650 matches from 1993-01-09 to 2018-12-05. Home won 3587 (46%). There were 1964 draws (25%).\n"
     ]
    }
   ],
   "source": [
    "bl.sort_values(by='Date', inplace=True)\n",
    "bl['home_win'] = np.where(bl.FTHG > bl.FTAG, 1, 0)\n",
    "bl['draw'] = np.where(bl.FTHG==bl.FTAG, 1, 0)\n",
    "bl['away_win'] = np.where(bl.FTHG < bl.FTAG, 1, 0)\n",
    "# add draws to the winner, doesn't really matter\n",
    "bl['winner'] = bl.HomeTeam * (bl.home_win + bl.draw) + bl.AwayTeam * bl.away_win\n",
    "bl['loser'] = bl.HomeTeam * (1 - bl.home_win) + bl.AwayTeam * (1 - bl.away_win)\n",
    "\n",
    "print('Dataset contains {} matches from {} to {}. Home won {} ({}%). There were {} draws ({}%).'.format(len(bl), bl.Date.min().date(), bl.Date.max().date(), bl.home_win.sum(), int(100*bl.home_win.sum()/len(bl)), bl.draw.sum(), int(100*bl.draw.sum()/len(bl)) ))"
   ]
  },
  {
   "cell_type": "code",
   "execution_count": 36,
   "metadata": {},
   "outputs": [
    {
     "data": {
      "text/html": [
       "<div>\n",
       "<table border=\"1\" class=\"dataframe\">\n",
       "  <thead>\n",
       "    <tr style=\"text-align: right;\">\n",
       "      <th></th>\n",
       "      <th>Div</th>\n",
       "      <th>Date</th>\n",
       "      <th>HomeTeam</th>\n",
       "      <th>AwayTeam</th>\n",
       "      <th>FTHG</th>\n",
       "      <th>FTAG</th>\n",
       "      <th>FTR</th>\n",
       "      <th>HTHG</th>\n",
       "      <th>HTAG</th>\n",
       "      <th>HTR</th>\n",
       "      <th>Season</th>\n",
       "      <th>home_win</th>\n",
       "      <th>draw</th>\n",
       "      <th>away_win</th>\n",
       "      <th>winner</th>\n",
       "      <th>loser</th>\n",
       "    </tr>\n",
       "  </thead>\n",
       "  <tbody>\n",
       "    <tr>\n",
       "      <th>44</th>\n",
       "      <td>D1</td>\n",
       "      <td>1993-01-09</td>\n",
       "      <td>Werder Bremen</td>\n",
       "      <td>Duisburg</td>\n",
       "      <td>1</td>\n",
       "      <td>5</td>\n",
       "      <td>A</td>\n",
       "      <td>NaN</td>\n",
       "      <td>NaN</td>\n",
       "      <td>NaN</td>\n",
       "      <td>1993-94</td>\n",
       "      <td>0</td>\n",
       "      <td>0</td>\n",
       "      <td>1</td>\n",
       "      <td>Duisburg</td>\n",
       "      <td>Werder Bremen</td>\n",
       "    </tr>\n",
       "    <tr>\n",
       "      <th>42</th>\n",
       "      <td>D1</td>\n",
       "      <td>1993-01-09</td>\n",
       "      <td>M'Gladbach</td>\n",
       "      <td>Schalke 04</td>\n",
       "      <td>3</td>\n",
       "      <td>2</td>\n",
       "      <td>H</td>\n",
       "      <td>NaN</td>\n",
       "      <td>NaN</td>\n",
       "      <td>NaN</td>\n",
       "      <td>1993-94</td>\n",
       "      <td>1</td>\n",
       "      <td>0</td>\n",
       "      <td>0</td>\n",
       "      <td>M'Gladbach</td>\n",
       "      <td>Schalke 04</td>\n",
       "    </tr>\n",
       "    <tr>\n",
       "      <th>41</th>\n",
       "      <td>D1</td>\n",
       "      <td>1993-01-09</td>\n",
       "      <td>Kaiserslautern</td>\n",
       "      <td>Nurnberg</td>\n",
       "      <td>3</td>\n",
       "      <td>1</td>\n",
       "      <td>H</td>\n",
       "      <td>NaN</td>\n",
       "      <td>NaN</td>\n",
       "      <td>NaN</td>\n",
       "      <td>1993-94</td>\n",
       "      <td>1</td>\n",
       "      <td>0</td>\n",
       "      <td>0</td>\n",
       "      <td>Kaiserslautern</td>\n",
       "      <td>Nurnberg</td>\n",
       "    </tr>\n",
       "    <tr>\n",
       "      <th>40</th>\n",
       "      <td>D1</td>\n",
       "      <td>1993-01-09</td>\n",
       "      <td>Hamburg</td>\n",
       "      <td>Leverkusen</td>\n",
       "      <td>2</td>\n",
       "      <td>1</td>\n",
       "      <td>H</td>\n",
       "      <td>NaN</td>\n",
       "      <td>NaN</td>\n",
       "      <td>NaN</td>\n",
       "      <td>1993-94</td>\n",
       "      <td>1</td>\n",
       "      <td>0</td>\n",
       "      <td>0</td>\n",
       "      <td>Hamburg</td>\n",
       "      <td>Leverkusen</td>\n",
       "    </tr>\n",
       "    <tr>\n",
       "      <th>39</th>\n",
       "      <td>D1</td>\n",
       "      <td>1993-01-09</td>\n",
       "      <td>FC Koln</td>\n",
       "      <td>Freiburg</td>\n",
       "      <td>2</td>\n",
       "      <td>0</td>\n",
       "      <td>H</td>\n",
       "      <td>NaN</td>\n",
       "      <td>NaN</td>\n",
       "      <td>NaN</td>\n",
       "      <td>1993-94</td>\n",
       "      <td>1</td>\n",
       "      <td>0</td>\n",
       "      <td>0</td>\n",
       "      <td>FC Koln</td>\n",
       "      <td>Freiburg</td>\n",
       "    </tr>\n",
       "  </tbody>\n",
       "</table>\n",
       "</div>"
      ],
      "text/plain": [
       "   Div       Date        HomeTeam    AwayTeam  FTHG  FTAG FTR  HTHG  HTAG  \\\n",
       "44  D1 1993-01-09   Werder Bremen    Duisburg     1     5   A   NaN   NaN   \n",
       "42  D1 1993-01-09      M'Gladbach  Schalke 04     3     2   H   NaN   NaN   \n",
       "41  D1 1993-01-09  Kaiserslautern    Nurnberg     3     1   H   NaN   NaN   \n",
       "40  D1 1993-01-09         Hamburg  Leverkusen     2     1   H   NaN   NaN   \n",
       "39  D1 1993-01-09         FC Koln    Freiburg     2     0   H   NaN   NaN   \n",
       "\n",
       "    HTR   Season  home_win  draw  away_win          winner          loser  \n",
       "44  NaN  1993-94         0     0         1        Duisburg  Werder Bremen  \n",
       "42  NaN  1993-94         1     0         0      M'Gladbach     Schalke 04  \n",
       "41  NaN  1993-94         1     0         0  Kaiserslautern       Nurnberg  \n",
       "40  NaN  1993-94         1     0         0         Hamburg     Leverkusen  \n",
       "39  NaN  1993-94         1     0         0         FC Koln       Freiburg  "
      ]
     },
     "execution_count": 36,
     "metadata": {},
     "output_type": "execute_result"
    }
   ],
   "source": [
    "bl.head()"
   ]
  },
  {
   "cell_type": "markdown",
   "metadata": {},
   "source": [
    "## Elo\n",
    "\n",
    "https://pypi.org/project/elo/\n",
    "https://github.com/sublee/elo/"
   ]
  },
  {
   "cell_type": "code",
   "execution_count": 51,
   "metadata": {},
   "outputs": [],
   "source": [
    "from elo import Elo\n",
    "ELO = Elo()\n",
    "home_advantage = 100"
   ]
  },
  {
   "cell_type": "code",
   "execution_count": 34,
   "metadata": {},
   "outputs": [],
   "source": [
    "from collections import defaultdict"
   ]
  },
  {
   "cell_type": "markdown",
   "metadata": {},
   "source": [
    "def rate_1vs1(self, rating1, rating2, drawn=False):\n",
    "        scores = (DRAW, DRAW) if drawn else (WIN, LOSS)\n",
    "        return (self.rate(rating1, [(scores[0], rating2)]),\n",
    "                self.rate(rating2, [(scores[1], rating1)]))"
   ]
  },
  {
   "cell_type": "markdown",
   "metadata": {},
   "source": [
    "Algorithms tend to take the order home, away"
   ]
  },
  {
   "cell_type": "code",
   "execution_count": 53,
   "metadata": {},
   "outputs": [],
   "source": [
    "elo_ratings = defaultdict(list)\n",
    "winner_ratings = []\n",
    "loser_ratings = []\n",
    "for winner, loser, home, draw in zip(bl.winner, bl.loser, bl.HomeTeam, bl.draw):\n",
    "    winner_is_home = int(winner == home)\n",
    "    try:\n",
    "        winner_rating = elo_ratings[winner][-1]\n",
    "    except IndexError:\n",
    "        winner_rating = ELO.create_rating()\n",
    "        elo_ratings[winner].append(winner_rating)\n",
    "    try:\n",
    "        loser_rating = elo_ratings[loser][-1]\n",
    "    except IndexError:\n",
    "        loser_rating = ELO.create_rating()\n",
    "        elo_ratings[loser].append(loser_rating)\n",
    "    if winner_is_home:\n",
    "        winner_rating += home_advantage\n",
    "    else:\n",
    "        loser_rating += home_advantage\n",
    "    winner_rating_new, loser_rating_new = ELO.rate_1vs1(winner_rating, loser_rating, drawn=draw)\n",
    "    winner_ratings.append(winner_rating_new)\n",
    "    loser_ratings.append(loser_rating_new)\n",
    "    elo_ratings[winner].append(winner_rating_new)\n",
    "    elo_ratings[loser].append(loser_rating_new)\n",
    "bl['winner_elo_after'] = winner_ratings\n",
    "bl['loser_elo_after'] = loser_ratings"
   ]
  },
  {
   "cell_type": "code",
   "execution_count": null,
   "metadata": {},
   "outputs": [],
   "source": []
  }
 ],
 "metadata": {
  "kernelspec": {
   "display_name": "Python 3",
   "language": "python",
   "name": "python3"
  },
  "language_info": {
   "codemirror_mode": {
    "name": "ipython",
    "version": 3
   },
   "file_extension": ".py",
   "mimetype": "text/x-python",
   "name": "python",
   "nbconvert_exporter": "python",
   "pygments_lexer": "ipython3",
   "version": "3.5.2"
  }
 },
 "nbformat": 4,
 "nbformat_minor": 2
}
