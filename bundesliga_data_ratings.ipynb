{
 "cells": [
  {
   "cell_type": "code",
   "execution_count": 1,
   "metadata": {},
   "outputs": [],
   "source": [
    "import pandas as pd\n",
    "import numpy as np\n",
    "import matplotlib.pyplot as plt\n",
    "%matplotlib inline"
   ]
  },
  {
   "cell_type": "code",
   "execution_count": 2,
   "metadata": {},
   "outputs": [],
   "source": [
    "# source https://www.kaggle.com/thefc17/bundesliga-results-19932018/version/1\n",
    "bl = pd.read_csv('Bundesliga_Results.csv', parse_dates=['Date'])"
   ]
  },
  {
   "cell_type": "markdown",
   "metadata": {},
   "source": [
    "This dataset contains results from every Bundesliga match from 1993-1994 to 2017-2018. It also includes half time results, but only from 1995-96 to 2017-18. Columns include Division (denoted as D1), HomeTeam, AwayTeam, FTHG (final time home goals), FTAG (final time away goals), FTR (full time result), HTHG (half time home goals), HTAG (half time away goals), HTR (half time result), and season.\n",
    "\n",
    "Data compiled into one file from this site: http://www.football-data.co.uk/germanym.php"
   ]
  },
  {
   "cell_type": "code",
   "execution_count": 3,
   "metadata": {},
   "outputs": [
    {
     "name": "stdout",
     "output_type": "stream",
     "text": [
      "Dataset contains 7650 matches from 1993-01-09 to 2018-12-05. Home won 5551 (72%). There were 1964 draws (25%).\n"
     ]
    }
   ],
   "source": [
    "bl.sort_values(by='Date', inplace=True)\n",
    "bl.HomeTeam = bl.HomeTeam.apply(lambda x: x.lower().replace(' ', ''))\n",
    "bl.AwayTeam = bl.AwayTeam.apply(lambda x: x.lower().replace(' ', ''))\n",
    "# add draws to the winner, doesn't really matter\n",
    "bl['home_win'] = np.where(bl.FTHG >= bl.FTAG, 1, 0)\n",
    "bl['draw'] = np.where(bl.FTHG==bl.FTAG, 1, 0)\n",
    "bl['away_win'] = np.where(bl.FTHG < bl.FTAG, 1, 0)\n",
    "bl['winner'] = (bl.HomeTeam * (bl.home_win) + bl.AwayTeam * bl.away_win)\n",
    "bl['loser'] = (bl.HomeTeam * (1 - bl.home_win) + bl.AwayTeam * (1 - bl.away_win))\n",
    "\n",
    "print('Dataset contains {} matches from {} to {}. Home won {} ({}%). There were {} draws ({}%).'.format(len(bl), bl.Date.min().date(), bl.Date.max().date(), bl.home_win.sum(), int(100*bl.home_win.sum()/len(bl)), bl.draw.sum(), int(100*bl.draw.sum()/len(bl)) ))"
   ]
  },
  {
   "cell_type": "code",
   "execution_count": 4,
   "metadata": {},
   "outputs": [],
   "source": [
    "def get_matchup(row):\n",
    "    if row.FTHG >= row.FTAG:\n",
    "        winner_is_home = True\n",
    "    else:\n",
    "        winner_is_home = False\n",
    "    if row.FTHG == row.FTAG:\n",
    "        draw = True\n",
    "    else:\n",
    "        draw = False\n",
    "    return (winner_is_home, draw)"
   ]
  },
  {
   "cell_type": "code",
   "execution_count": 5,
   "metadata": {},
   "outputs": [
    {
     "data": {
      "text/html": [
       "<div>\n",
       "<style scoped>\n",
       "    .dataframe tbody tr th:only-of-type {\n",
       "        vertical-align: middle;\n",
       "    }\n",
       "\n",
       "    .dataframe tbody tr th {\n",
       "        vertical-align: top;\n",
       "    }\n",
       "\n",
       "    .dataframe thead th {\n",
       "        text-align: right;\n",
       "    }\n",
       "</style>\n",
       "<table border=\"1\" class=\"dataframe\">\n",
       "  <thead>\n",
       "    <tr style=\"text-align: right;\">\n",
       "      <th></th>\n",
       "      <th>Div</th>\n",
       "      <th>Date</th>\n",
       "      <th>HomeTeam</th>\n",
       "      <th>AwayTeam</th>\n",
       "      <th>FTHG</th>\n",
       "      <th>FTAG</th>\n",
       "      <th>FTR</th>\n",
       "      <th>HTHG</th>\n",
       "      <th>HTAG</th>\n",
       "      <th>HTR</th>\n",
       "      <th>Season</th>\n",
       "      <th>home_win</th>\n",
       "      <th>draw</th>\n",
       "      <th>away_win</th>\n",
       "      <th>winner</th>\n",
       "      <th>loser</th>\n",
       "    </tr>\n",
       "  </thead>\n",
       "  <tbody>\n",
       "    <tr>\n",
       "      <th>44</th>\n",
       "      <td>D1</td>\n",
       "      <td>1993-01-09</td>\n",
       "      <td>werderbremen</td>\n",
       "      <td>duisburg</td>\n",
       "      <td>1</td>\n",
       "      <td>5</td>\n",
       "      <td>A</td>\n",
       "      <td>NaN</td>\n",
       "      <td>NaN</td>\n",
       "      <td>NaN</td>\n",
       "      <td>1993-94</td>\n",
       "      <td>0</td>\n",
       "      <td>0</td>\n",
       "      <td>1</td>\n",
       "      <td>duisburg</td>\n",
       "      <td>werderbremen</td>\n",
       "    </tr>\n",
       "    <tr>\n",
       "      <th>42</th>\n",
       "      <td>D1</td>\n",
       "      <td>1993-01-09</td>\n",
       "      <td>m'gladbach</td>\n",
       "      <td>schalke04</td>\n",
       "      <td>3</td>\n",
       "      <td>2</td>\n",
       "      <td>H</td>\n",
       "      <td>NaN</td>\n",
       "      <td>NaN</td>\n",
       "      <td>NaN</td>\n",
       "      <td>1993-94</td>\n",
       "      <td>1</td>\n",
       "      <td>0</td>\n",
       "      <td>0</td>\n",
       "      <td>m'gladbach</td>\n",
       "      <td>schalke04</td>\n",
       "    </tr>\n",
       "    <tr>\n",
       "      <th>41</th>\n",
       "      <td>D1</td>\n",
       "      <td>1993-01-09</td>\n",
       "      <td>kaiserslautern</td>\n",
       "      <td>nurnberg</td>\n",
       "      <td>3</td>\n",
       "      <td>1</td>\n",
       "      <td>H</td>\n",
       "      <td>NaN</td>\n",
       "      <td>NaN</td>\n",
       "      <td>NaN</td>\n",
       "      <td>1993-94</td>\n",
       "      <td>1</td>\n",
       "      <td>0</td>\n",
       "      <td>0</td>\n",
       "      <td>kaiserslautern</td>\n",
       "      <td>nurnberg</td>\n",
       "    </tr>\n",
       "    <tr>\n",
       "      <th>40</th>\n",
       "      <td>D1</td>\n",
       "      <td>1993-01-09</td>\n",
       "      <td>hamburg</td>\n",
       "      <td>leverkusen</td>\n",
       "      <td>2</td>\n",
       "      <td>1</td>\n",
       "      <td>H</td>\n",
       "      <td>NaN</td>\n",
       "      <td>NaN</td>\n",
       "      <td>NaN</td>\n",
       "      <td>1993-94</td>\n",
       "      <td>1</td>\n",
       "      <td>0</td>\n",
       "      <td>0</td>\n",
       "      <td>hamburg</td>\n",
       "      <td>leverkusen</td>\n",
       "    </tr>\n",
       "    <tr>\n",
       "      <th>39</th>\n",
       "      <td>D1</td>\n",
       "      <td>1993-01-09</td>\n",
       "      <td>fckoln</td>\n",
       "      <td>freiburg</td>\n",
       "      <td>2</td>\n",
       "      <td>0</td>\n",
       "      <td>H</td>\n",
       "      <td>NaN</td>\n",
       "      <td>NaN</td>\n",
       "      <td>NaN</td>\n",
       "      <td>1993-94</td>\n",
       "      <td>1</td>\n",
       "      <td>0</td>\n",
       "      <td>0</td>\n",
       "      <td>fckoln</td>\n",
       "      <td>freiburg</td>\n",
       "    </tr>\n",
       "  </tbody>\n",
       "</table>\n",
       "</div>"
      ],
      "text/plain": [
       "   Div       Date        HomeTeam    AwayTeam  FTHG  FTAG FTR  HTHG  HTAG  \\\n",
       "44  D1 1993-01-09    werderbremen    duisburg     1     5   A   NaN   NaN   \n",
       "42  D1 1993-01-09      m'gladbach   schalke04     3     2   H   NaN   NaN   \n",
       "41  D1 1993-01-09  kaiserslautern    nurnberg     3     1   H   NaN   NaN   \n",
       "40  D1 1993-01-09         hamburg  leverkusen     2     1   H   NaN   NaN   \n",
       "39  D1 1993-01-09          fckoln    freiburg     2     0   H   NaN   NaN   \n",
       "\n",
       "    HTR   Season  home_win  draw  away_win          winner         loser  \n",
       "44  NaN  1993-94         0     0         1        duisburg  werderbremen  \n",
       "42  NaN  1993-94         1     0         0      m'gladbach     schalke04  \n",
       "41  NaN  1993-94         1     0         0  kaiserslautern      nurnberg  \n",
       "40  NaN  1993-94         1     0         0         hamburg    leverkusen  \n",
       "39  NaN  1993-94         1     0         0          fckoln      freiburg  "
      ]
     },
     "execution_count": 5,
     "metadata": {},
     "output_type": "execute_result"
    }
   ],
   "source": [
    "bl.head()"
   ]
  },
  {
   "cell_type": "code",
   "execution_count": 6,
   "metadata": {},
   "outputs": [],
   "source": [
    "teams = list(set(list(bl.winner.values) + list(bl.loser.values)))"
   ]
  },
  {
   "cell_type": "code",
   "execution_count": 7,
   "metadata": {},
   "outputs": [
    {
     "data": {
      "text/plain": [
       "array(['1993-94', '1994-95', '1995-96', '1996-97', '1997-98', '1998-99',\n",
       "       '1999-00', '2000-01', '2001-02', '2002-03', '2003-04', '2004-05',\n",
       "       '2005-06', '2006-07', '2007-08', '2008-09', '2009-10', '2010-11',\n",
       "       '2011-12', '2012-13', '2013-14', '2014-15', '2015-16', '2016-17',\n",
       "       '2017-18'], dtype=object)"
      ]
     },
     "execution_count": 7,
     "metadata": {},
     "output_type": "execute_result"
    }
   ],
   "source": [
    "seasons = bl.Season.unique()\n",
    "seasons"
   ]
  },
  {
   "cell_type": "code",
   "execution_count": 8,
   "metadata": {},
   "outputs": [],
   "source": [
    "from elo import Elo as ELO\n",
    "from glicko2 import Glicko2 as GLICKO\n",
    "import trueskill as ts\n",
    "from collections import defaultdict"
   ]
  },
  {
   "cell_type": "code",
   "execution_count": 9,
   "metadata": {},
   "outputs": [],
   "source": [
    "Elo = ELO()\n",
    "Glicko = GLICKO()"
   ]
  },
  {
   "cell_type": "code",
   "execution_count": 10,
   "metadata": {},
   "outputs": [],
   "source": [
    "# default values\n",
    "elo_ratings = defaultdict(list)\n",
    "gl_ratings = defaultdict(list)\n",
    "ts_ratings = defaultdict(list)\n",
    "match_dates = defaultdict(list)\n",
    "\n",
    "for team in teams:\n",
    "    elo_ratings[team].append(Elo.create_rating())\n",
    "    gl_ratings[team].append(Glicko.create_rating())\n",
    "    ts_ratings[team].append(ts.Rating())        "
   ]
  },
  {
   "cell_type": "code",
   "execution_count": 11,
   "metadata": {},
   "outputs": [],
   "source": [
    "def update_elo_ratings(winner, loser, draw):\n",
    "    winner_rating = elo_ratings[winner][-1]\n",
    "    loser_rating = elo_ratings[loser][-1]\n",
    "    winner_rating_new, loser_rating_new = Elo.rate_1vs1(winner_rating, loser_rating, drawn=draw)\n",
    "    elo_ratings[winner].append(winner_rating_new)\n",
    "    elo_ratings[loser].append(loser_rating_new)\n",
    "    return winner_rating_new, loser_rating_new"
   ]
  },
  {
   "cell_type": "code",
   "execution_count": 12,
   "metadata": {},
   "outputs": [],
   "source": [
    "def update_glicko_ratings(winner, loser, draw):\n",
    "    winner_rating = gl_ratings[winner][-1]\n",
    "    loser_rating = gl_ratings[loser][-1]\n",
    "    winner_rating_new, loser_rating_new = Glicko.rate_1vs1(winner_rating, loser_rating, drawn=draw)\n",
    "    gl_ratings[winner].append(winner_rating_new)\n",
    "    gl_ratings[loser].append(loser_rating_new)\n",
    "    return winner_rating_new, loser_rating_new"
   ]
  },
  {
   "cell_type": "code",
   "execution_count": 13,
   "metadata": {},
   "outputs": [],
   "source": [
    "def update_ts_ratings(winner, loser, draw):\n",
    "    winner_rating = ts_ratings[winner][-1]\n",
    "    loser_rating = ts_ratings[loser][-1]\n",
    "    winner_rating_new, loser_rating_new = ts.rate_1vs1(winner_rating, loser_rating, drawn=draw)\n",
    "    ts_ratings[winner].append(winner_rating_new)\n",
    "    ts_ratings[loser].append(loser_rating_new)\n",
    "    return winner_rating_new, loser_rating_new"
   ]
  },
  {
   "cell_type": "code",
   "execution_count": 14,
   "metadata": {},
   "outputs": [],
   "source": [
    "for idx, row in bl.iterrows():\n",
    "    \n",
    "    match_dates[row.HomeTeam].append(row.Date)\n",
    "    match_dates[row.AwayTeam].append(row.Date)\n",
    "    \n",
    "    winner_is_home, draw = get_matchup(row)\n",
    "    if winner_is_home:\n",
    "        winner = row.HomeTeam\n",
    "        loser = row.AwayTeam\n",
    "    else:\n",
    "        winner = row.AwayTeam\n",
    "        loser = row.HomeTeam\n",
    "    wr, lr = update_elo_ratings(winner, loser, draw)\n",
    "    wr, lr = update_glicko_ratings(winner, loser, draw)\n",
    "    wr, lr = update_ts_ratings(winner, loser, draw)"
   ]
  },
  {
   "cell_type": "code",
   "execution_count": null,
   "metadata": {},
   "outputs": [],
   "source": [
    "# todo: change k to 32/64"
   ]
  },
  {
   "cell_type": "code",
   "execution_count": 64,
   "metadata": {},
   "outputs": [],
   "source": [
    "def normalize(ratings):\n",
    "    return (ratings - ratings.min()) / (ratings.max() - ratings.min())\n",
    "\n",
    "def apply_confidence_glicko(glicko_rating):\n",
    "    skill = []\n",
    "    for r in glicko_rating:\n",
    "        skill.append(r.mu - 2*r.phi)\n",
    "    return np.array(skill)\n",
    "\n",
    "def apply_confidence_ts(ts_rating):\n",
    "    skill = []\n",
    "    for r in ts_rating:\n",
    "        skill.append(r.mu - 2*r.sigma)\n",
    "    return np.array(skill)"
   ]
  },
  {
   "cell_type": "code",
   "execution_count": 67,
   "metadata": {},
   "outputs": [
    {
     "data": {
      "image/png": "[encoded data removed]",
      "text/plain": [
       "<Figure size 1080x360 with 1 Axes>"
      ]
     },
     "metadata": {
      "needs_background": "light"
     },
     "output_type": "display_data"
    }
   ],
   "source": [
    "team = 'einfrankfurt'\n",
    "plt.figure(figsize=(15,5))\n",
    "plt.plot(match_dates[team], normalize(np.array(elo_ratings[team][1:])), label='elo')\n",
    "plt.plot(match_dates[team], normalize(apply_confidence_glicko(gl_ratings[team][1:])), label='glicko')\n",
    "plt.plot(match_dates[team], normalize(apply_confidence_ts(ts_ratings[team][1:])), label='trueskill')\n",
    "plt.legend()\n",
    "_ = plt.title(team)"
   ]
  },
  {
   "cell_type": "code",
   "execution_count": 73,
   "metadata": {},
   "outputs": [],
   "source": [
    "gr = defaultdict(list)\n",
    "for t in ['a', 'b', 'c', 'd', 'e', 'f']:\n",
    "    gr[t].append(Glicko.create_rating())"
   ]
  },
  {
   "cell_type": "code",
   "execution_count": 69,
   "metadata": {},
   "outputs": [],
   "source": [
    "for matchup in [('a', 'b'), ('c', 'd'), ('e', 'f'), ('b', 'c'), ('d', 'e')]:\n",
    "    winner_rating_new, loser_rating_new = Glicko.rate_1vs1(gr[matchup[0]][-1], gr[matchup[1]][-1], drawn=False)\n",
    "    gr[matchup[0]].append(winner_rating_new)\n",
    "    gr[matchup[1]].append(loser_rating_new)"
   ]
  },
  {
   "cell_type": "code",
   "execution_count": 72,
   "metadata": {},
   "outputs": [
    {
     "name": "stdout",
     "output_type": "stream",
     "text": [
      "a [ 800.         1081.67429249]\n",
      "b [ 800.          757.05586739 1045.9645849 ]\n",
      "c [ 800.         1081.67429249  912.08908194]\n",
      "d [ 800.          757.05586739 1045.9645849 ]\n",
      "e [ 800.         1081.67429249  912.08908194]\n",
      "f [800.         757.05586739]\n"
     ]
    }
   ],
   "source": [
    "for t, ratings in gr.items():\n",
    "    print (t, apply_confidence_glicko(ratings))"
   ]
  },
  {
   "cell_type": "code",
   "execution_count": 76,
   "metadata": {},
   "outputs": [
    {
     "data": {
      "text/plain": [
       "glicko2.Rating(mu=1662.309, phi=290.317, sigma=0.060)"
      ]
     },
     "execution_count": 76,
     "metadata": {},
     "output_type": "execute_result"
    }
   ],
   "source": [
    "Glicko.rate(gr['a'][-1], [(1, gr['b'][-1])])"
   ]
  },
  {
   "cell_type": "code",
   "execution_count": 77,
   "metadata": {},
   "outputs": [
    {
     "data": {
      "text/plain": [
       "glicko2.Rating(mu=1500.000, phi=253.403, sigma=0.060)"
      ]
     },
     "execution_count": 77,
     "metadata": {},
     "output_type": "execute_result"
    }
   ],
   "source": [
    "Glicko.rate(gr['b'][-1], [(0, gr['a'][-1]), (1, gr['b'][-1])])"
   ]
  },
  {
   "cell_type": "code",
   "execution_count": 78,
   "metadata": {},
   "outputs": [
    {
     "data": {
      "text/plain": [
       "glicko2.Rating(mu=1500.000, phi=253.403, sigma=0.060)"
      ]
     },
     "execution_count": 78,
     "metadata": {},
     "output_type": "execute_result"
    }
   ],
   "source": [
    "Glicko.rate(gr['c'][-1], [(1, gr['d'][-1]), (0, gr['b'][-1])])"
   ]
  },
  {
   "cell_type": "code",
   "execution_count": null,
   "metadata": {},
   "outputs": [],
   "source": []
  }
 ],
 "metadata": {
  "kernelspec": {
   "display_name": "Python 3",
   "language": "python",
   "name": "python3"
  },
  "language_info": {
   "codemirror_mode": {
    "name": "ipython",
    "version": 3
   },
   "file_extension": ".py",
   "mimetype": "text/x-python",
   "name": "python",
   "nbconvert_exporter": "python",
   "pygments_lexer": "ipython3",
   "version": "3.6.8"
  }
 },
 "nbformat": 4,
 "nbformat_minor": 2
}
